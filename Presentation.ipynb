{
 "cells": [
  {
   "cell_type": "markdown",
   "metadata": {},
   "source": [
    "# Shortest Path in a Stochatic Network\n",
    "*by Thibaut Rousseaux and Gabriel Razafindratsima*"
   ]
  },
  {
   "cell_type": "markdown",
   "metadata": {},
   "source": [
    "## Problematic ##\n",
    "\n",
    "&nbsp;&nbsp;&nbsp;In a network with fixed topology the throughput of arcs (hops) can change at each step. \n",
    "\n",
    "The task will be to **optimize the stochatic rules of routing the message**"
   ]
  },
  {
   "cell_type": "markdown",
   "metadata": {},
   "source": [
    "## Approach ##\n",
    "\n",
    "  &nbsp;&nbsp;&nbsp; In this first approach we will create a network with a fixed probability in each arcs (that the message will take the arcs). So the sum of the probability equal 1."
   ]
  },
  {
   "cell_type": "code",
   "execution_count": 1,
   "metadata": {},
   "outputs": [],
   "source": [
    "import numpy as np\n",
    "import random\n",
    "import sys\n",
    "import networkx as nx\n",
    "from networkx.drawing.nx_agraph import write_dot\n",
    "from networkx.drawing.nx_agraph import to_agraph \n",
    "import matplotlib.pyplot as plt\n",
    "import pandas as pd\n",
    "import pylab\n",
    "import graphviz\n",
    "\n",
    "\n"
   ]
  },
  {
   "cell_type": "markdown",
   "metadata": {},
   "source": [
    "### Init the Network"
   ]
  },
  {
   "cell_type": "code",
   "execution_count": 161,
   "metadata": {},
   "outputs": [],
   "source": [
    "numberStates = 4 #Total number of states\n",
    "stable = 2\n",
    "unstable = 6\n",
    "\n",
    "#Sequence of events\n",
    "events = [['12'], ['22', '23', '24'], ['33', '34'], ['44']]\n",
    "\n",
    "# Transition matrix\n",
    "transitionMatrix = [['1.0,5,2'], ['0.3333333333333333,1,2', '0.3333333333333333,7,6', '0.3333333333333333,3,6'], ['0.5,6,2', '0.5,7,2'], ['1.0,6,2']]\n",
    "\n",
    "#if sum(transitionMatrix[0])+sum(transitionMatrix[1])+sum(transitionMatrix[1]) != 3:\n",
    "#  sys.exit(\"Transition matrix doesn't have the awaited total\")\n",
    "\n"
   ]
  },
  {
   "cell_type": "markdown",
   "metadata": {},
   "source": [
    "### creating a NetworkX graph"
   ]
  },
  {
   "cell_type": "code",
   "execution_count": 171,
   "metadata": {},
   "outputs": [
    {
     "name": "stdout",
     "output_type": "stream",
     "text": [
      "[[['11', '12', '13', '14'], ['22', '23'], ['34'], []], [['0.25,1,2', '0.25,9,6', '0.25,9,6', '0.25,5,2'], ['0.5,7,2', '0.5,5,2'], ['1.0,5,2'], []]]\n",
      "[[['11', '12', '14'], ['23', '24'], ['33', '34'], ['44']], [['0.3333333333333333,8,2', '0.3333333333333333,9,2', '0.3333333333333333,9,2'], ['0.5,5,6', '0.5,1,2'], ['0.5,3,2', '0.5,5,2'], ['1.0,2,2']]]\n",
      "[[['11', '12'], ['22', '23'], ['34'], ['44']], [['0.5,1,2', '0.5,9,6'], ['0.5,6,2', '0.5,8,6'], ['1.0,3,2'], ['1.0,9,2']]]\n",
      "[[['11', '12', '14'], ['22', '23'], ['33', '34'], []], [['0.3333333333333333,3,2', '0.3333333333333333,3,2', '0.3333333333333333,8,2'], ['0.5,4,2', '0.5,3,2'], ['0.5,3,2', '0.5,9,2'], []]]\n",
      "[[['12'], ['22', '23'], ['33', '34'], ['44']], [['1.0,2,2'], ['0.5,9,2', '0.5,7,2'], ['0.5,5,2', '0.5,1,2'], ['1.0,3,6']]]\n",
      "[[['11', '12', '14'], ['22', '23'], ['34'], []], [['0.3333333333333333,6,6', '0.3333333333333333,6,2', '0.3333333333333333,5,2'], ['0.5,4,2', '0.5,6,2'], ['1.0,9,2'], []]]\n",
      "[[['11', '12'], ['22', '23'], ['33', '34'], ['44']], [['0.5,3,2', '0.5,9,2'], ['0.5,5,2', '0.5,7,6'], ['0.5,3,2', '0.5,4,2'], ['1.0,5,2']]]\n",
      "[[['11', '12', '13'], ['23', '24'], ['33', '34'], ['44']], [['0.3333333333333333,5,2', '0.3333333333333333,5,6', '0.3333333333333333,1,2'], ['0.5,9,6', '0.5,3,2'], ['0.5,9,6', '0.5,7,6'], ['1.0,1,2']]]\n",
      "[[['11', '12', '14'], ['22', '23', '24'], ['34'], ['44']], [['0.3333333333333333,8,2', '0.3333333333333333,9,6', '0.3333333333333333,3,2'], ['0.3333333333333333,7,6', '0.3333333333333333,3,2', '0.3333333333333333,3,2'], ['1.0,5,6'], ['1.0,5,2']]]\n",
      "[[['12'], ['22', '23', '24'], ['33', '34'], ['44']], [['1.0,5,2'], ['0.3333333333333333,1,2', '0.3333333333333333,7,6', '0.3333333333333333,3,6'], ['0.5,6,2', '0.5,7,2'], ['1.0,6,2']]]\n"
     ]
    }
   ],
   "source": [
    "\n",
    "#Graph\n",
    "G = nx.MultiDiGraph()\n",
    "\n",
    "\n",
    "# initializing with same weight for every arcs\n",
    "for e in transitionMatrix:\n",
    "  for i in range(0,len(e)):\n",
    "    e[i][0]= 1/len(e)\n",
    "\n",
    "Filling edges for the graph\n",
    "for i in range(0,len(events)):\n",
    "  for e in range(0,len(events[i])):\n",
    "    G.add_edges_from([tuple(list(events[i][e]))],weight=transitionMatrix[i][e][1],label=transitionMatrix[i][e])\n",
    "\n",
    "\n",
    "\n",
    "#print(G.get_edge_data(\"1\",\"2\")[0]['weight'])"
   ]
  },
  {
   "cell_type": "markdown",
   "metadata": {},
   "source": [
    "### Print the graph"
   ]
  },
  {
   "cell_type": "code",
   "execution_count": 157,
   "metadata": {},
   "outputs": [
    {
     "data": {
      "image/svg+xml": [
       "<?xml version=\"1.0\" encoding=\"UTF-8\" standalone=\"no\"?>\r\n",
       "<!DOCTYPE svg PUBLIC \"-//W3C//DTD SVG 1.1//EN\"\r\n",
       " \"http://www.w3.org/Graphics/SVG/1.1/DTD/svg11.dtd\">\r\n",
       "<!-- Generated by graphviz version 2.38.0 (20140413.2041)\r\n",
       " -->\r\n",
       "<!-- Pages: 1 -->\r\n",
       "<svg width=\"162pt\" height=\"131pt\"\r\n",
       " viewBox=\"0.00 0.00 162.00 131.00\" xmlns=\"http://www.w3.org/2000/svg\" xmlns:xlink=\"http://www.w3.org/1999/xlink\">\r\n",
       "<g id=\"graph0\" class=\"graph\" transform=\"scale(1 1) rotate(0) translate(4 127)\">\r\n",
       "<polygon fill=\"white\" stroke=\"none\" points=\"-4,4 -4,-127 158,-127 158,4 -4,4\"/>\r\n",
       "<!-- 1 -->\r\n",
       "<g id=\"node1\" class=\"node\"><title>1</title>\r\n",
       "<ellipse fill=\"none\" stroke=\"black\" cx=\"27\" cy=\"-105\" rx=\"27\" ry=\"18\"/>\r\n",
       "<text text-anchor=\"middle\" x=\"27\" y=\"-101.3\" font-family=\"Times New Roman,serif\" font-size=\"14.00\">1</text>\r\n",
       "</g>\r\n",
       "<!-- 2 -->\r\n",
       "<g id=\"node2\" class=\"node\"><title>2</title>\r\n",
       "<ellipse fill=\"none\" stroke=\"black\" cx=\"27\" cy=\"-18\" rx=\"27\" ry=\"18\"/>\r\n",
       "<text text-anchor=\"middle\" x=\"27\" y=\"-14.3\" font-family=\"Times New Roman,serif\" font-size=\"14.00\">2</text>\r\n",
       "</g>\r\n",
       "<!-- 1&#45;&gt;2 -->\r\n",
       "<g id=\"edge1\" class=\"edge\"><title>1&#45;&gt;2</title>\r\n",
       "<path fill=\"none\" stroke=\"black\" d=\"M27,-86.799C27,-75.1626 27,-59.5479 27,-46.2368\"/>\r\n",
       "<polygon fill=\"black\" stroke=\"black\" points=\"30.5001,-46.1754 27,-36.1754 23.5001,-46.1755 30.5001,-46.1754\"/>\r\n",
       "<text text-anchor=\"middle\" x=\"61.5\" y=\"-57.8\" font-family=\"Times New Roman,serif\" font-size=\"14.00\">[0.5, 20, 10]</text>\r\n",
       "</g>\r\n",
       "<!-- 1&#45;&gt;2 -->\r\n",
       "<g id=\"edge2\" class=\"edge\"><title>1&#45;&gt;2</title>\r\n",
       "<path fill=\"none\" stroke=\"black\" d=\"M52.3192,-98.5C68.1365,-93.6144 87.2852,-84.7189 97,-69 108.404,-50.5473 84.3329,-36.9379 61.3709,-28.6162\"/>\r\n",
       "<polygon fill=\"black\" stroke=\"black\" points=\"62.2986,-25.2358 51.7047,-25.3747 60.073,-31.8726 62.2986,-25.2358\"/>\r\n",
       "<text text-anchor=\"middle\" x=\"126.5\" y=\"-57.8\" font-family=\"Times New Roman,serif\" font-size=\"14.00\">[0.5, 2, 5]</text>\r\n",
       "</g>\r\n",
       "<!-- 2&#45;&gt;2 -->\r\n",
       "<g id=\"edge3\" class=\"edge\"><title>2&#45;&gt;2</title>\r\n",
       "<path fill=\"none\" stroke=\"black\" d=\"M51.5325,-25.752C62.5078,-26.4902 72,-23.9063 72,-18 72,-14.0317 67.7151,-11.5632 61.5743,-10.5944\"/>\r\n",
       "<polygon fill=\"black\" stroke=\"black\" points=\"61.6472,-7.09491 51.5325,-10.248 61.4059,-14.0908 61.6472,-7.09491\"/>\r\n",
       "<text text-anchor=\"middle\" x=\"103\" y=\"-14.3\" font-family=\"Times New Roman,serif\" font-size=\"14.00\">[0.5, 20, 7]</text>\r\n",
       "</g>\r\n",
       "</g>\r\n",
       "</svg>\r\n"
      ],
      "text/plain": [
       "<graphviz.files.Source at 0x214ce78c100>"
      ]
     },
     "execution_count": 157,
     "metadata": {},
     "output_type": "execute_result"
    }
   ],
   "source": [
    "pos=nx.spring_layout(G)\n",
    "write_dot(G,'graph.dot')\n",
    "\n",
    "with open(\"graph.dot\") as f:\n",
    "    dot_graph = f.read()\n",
    "\n",
    "# remove the display(...)\n",
    "\n",
    "graphviz.Source(dot_graph)"
   ]
  },
  {
   "cell_type": "code",
   "execution_count": null,
   "metadata": {},
   "outputs": [],
   "source": []
  },
  {
   "cell_type": "markdown",
   "metadata": {},
   "source": [
    "### Function\n",
    "\n",
    "    generateNetworks(numberOfNetworks)\n",
    "is used to generate all the networks for tests\n",
    "\n",
    "    addToTab()  \n",
    "is used to store all the data of the path\n",
    "\n",
    "    activity()\n",
    "is used to determine where the message will be sent"
   ]
  },
  {
   "cell_type": "code",
   "execution_count": 197,
   "metadata": {},
   "outputs": [],
   "source": [
    "def setNetwork(network):\n",
    "    localGraph = nx.MultiDiGraph()\n",
    "    LocaltransitionMatrix = network[1]\n",
    "    Localevents = network[0]\n",
    "    for i in range(0,len(Localevents)):\n",
    "        for e in range(0,len(Localevents[i])):\n",
    "            listValue = list(LocaltransitionMatrix[i][e].split(\",\"))\n",
    "            listValue = list(map(float, listValue))\n",
    "            print(listValue)\n",
    "            localGraph.add_edges_from([tuple(list(Localevents[i][e]))],weight=listValue[1],label=listValue)\n",
    "    \n",
    "    return localGraph\n",
    "\n",
    "def addToTab(activityList):\n",
    "  tabStates = []\n",
    "  if not any(d.get('Path') == str(activityList) for d in tabStates):\n",
    "    tabStates.append({\n",
    "      \"Path\" : str(activityList),\n",
    "      \"count\":1,\n",
    "      \"stepCount\": len(activityList)-1\n",
    "    })\n",
    "  else:\n",
    "    for d in tabStates:\n",
    "      if(d.get('Path') == str(activityList)):\n",
    "        d['count'] = d['count'] + 1\n",
    "\n",
    "def generateNetworks(numberOfNetworks):\n",
    "  tabNetworks = []\n",
    "  for i in range(0,numberOfNetworks):\n",
    "    events = [[[]]]\n",
    "    for x in range(numberStates):\n",
    "        newState = []\n",
    "        values = []\n",
    "        count = 0\n",
    "        event = x+1\n",
    "        prob=60\n",
    "        #count != 2 and\n",
    "        while event <= numberStates: # 2 to change by 4, the 2 in the for is to be switched to 8 (9 states)\n",
    "            if random.randrange(100) < prob or event==x+2:\n",
    "                transition = str(x+1)+str(event)\n",
    "                newState.append(transition)\n",
    "                count += 1\n",
    "            event += 1\n",
    "            prob -= 5\n",
    "        nbTransitions = len(newState)\n",
    "        #We can't use the last while as we need to know the total number of transition to get the same availability on each\n",
    "        for p in range(0,nbTransitions):\n",
    "            availability = 1/nbTransitions\n",
    "            weight = random.randrange(1,10)\n",
    "            #weight can't = 0\n",
    "            if random.randrange(1,10) > 7:\n",
    "              power = str(availability)+\",\"+str(weight)+\",\"+str(unstable)\n",
    "            else:\n",
    "              power = str(availability)+\",\"+str(weight)+\",\"+str(stable)\n",
    "            values.append(power)\n",
    "        if events == [[[]]]:\n",
    "            events = [[newState],[values]]\n",
    "        else:\n",
    "            events[0].append(newState)\n",
    "            events[1].append(values)\n",
    "    tabNetworks.append(events)\n",
    "  return tabNetworks\n",
    "    #print(events)\n",
    "#The output \"events\" gives for each iteration (100) the possible paths of a network\n",
    "\n",
    "def activity(network):\n",
    "  #Starting state\n",
    "    i = 0\n",
    "    while i != iteration:\n",
    "      y = 0\n",
    "      firstState =\"1\"\n",
    "      activityList = [firstState]\n",
    "      i += 1 \n",
    "      while firstState != str(numberStates):\n",
    "        pas = 0\n",
    "        you = 1\n",
    "        change = np.random.choice(events[y],replace=True,p=transitionMatrix[y])\n",
    "        while pas != 1:\n",
    "          if change == events[y][0]:\n",
    "            activityList.append(events[y][0][-1])\n",
    "            change = np.random.choice(events[y],replace=True,p=transitionMatrix[y])\n",
    "          elif change == events[y][you]:\n",
    "            newState = events[y][you][-1]\n",
    "            firstState = newState\n",
    "            activityList.append(newState)\n",
    "            pas = 1\n",
    "          else:\n",
    "            you += 1\n",
    "        y += 1\n",
    "      addToTab(activityList)\n",
    "\n"
   ]
  },
  {
   "cell_type": "markdown",
   "metadata": {},
   "source": [
    "### Launching the simulation"
   ]
  },
  {
   "cell_type": "code",
   "execution_count": 199,
   "metadata": {
    "scrolled": true
   },
   "outputs": [
    {
     "name": "stdout",
     "output_type": "stream",
     "text": [
      "[0.25, 4.0, 6.0]\n",
      "[0.25, 5.0, 2.0]\n",
      "[0.25, 4.0, 2.0]\n",
      "[0.25, 1.0, 2.0]\n",
      "[0.5, 7.0, 2.0]\n",
      "[0.5, 7.0, 2.0]\n",
      "[1.0, 5.0, 2.0]\n",
      "[1.0, 7.0, 2.0]\n",
      "[[[['11', '12', '13'], ['23'], ['33', '34'], []], [['0.3333333333333333,6,6', '0.3333333333333333,8,6', '0.3333333333333333,7,2'], ['1.0,5,2'], ['0.5,8,2', '0.5,9,2'], []]], [[['11', '12', '13', '14'], ['22', '23'], ['34'], ['44']], [['0.25,4,6', '0.25,5,2', '0.25,4,2', '0.25,1,2'], ['0.5,7,2', '0.5,7,2'], ['1.0,5,2'], ['1.0,7,2']]], [[['12', '13'], ['23', '24'], ['33', '34'], []], [['0.5,3,2', '0.5,4,2'], ['0.5,1,2', '0.5,7,2'], ['0.5,6,2', '0.5,4,6'], []]], [[['11', '12', '13', '14'], ['22', '23', '24'], ['34'], []], [['0.25,9,2', '0.25,4,2', '0.25,9,2', '0.25,1,2'], ['0.3333333333333333,5,2', '0.3333333333333333,5,2', '0.3333333333333333,1,2'], ['1.0,6,6'], []]], [[['11', '12', '14'], ['23'], ['33', '34'], ['44']], [['0.3333333333333333,9,2', '0.3333333333333333,7,6', '0.3333333333333333,3,2'], ['1.0,3,2'], ['0.5,6,2', '0.5,8,2'], ['1.0,2,2']]], [[['11', '12', '13'], ['22', '23'], ['34'], ['44']], [['0.3333333333333333,4,6', '0.3333333333333333,9,2', '0.3333333333333333,4,2'], ['0.5,1,2', '0.5,7,2'], ['1.0,9,2'], ['1.0,7,2']]], [[['11', '12', '13'], ['23'], ['33', '34'], ['44']], [['0.3333333333333333,4,6', '0.3333333333333333,2,2', '0.3333333333333333,8,2'], ['1.0,6,2'], ['0.5,5,2', '0.5,5,2'], ['1.0,8,2']]], [[['11', '12', '13', '14'], ['22', '23'], ['34'], []], [['0.25,7,2', '0.25,2,6', '0.25,6,2', '0.25,8,6'], ['0.5,2,2', '0.5,2,2'], ['1.0,8,2'], []]], [[['12', '14'], ['23'], ['34'], []], [['0.5,9,2', '0.5,8,2'], ['1.0,7,2'], ['1.0,2,6'], []]], [[['12'], ['23', '24'], ['33', '34'], ['44']], [['1.0,7,6'], ['0.5,2,2', '0.5,7,2'], ['0.5,1,6', '0.5,8,2'], ['1.0,5,2']]]]\n"
     ]
    }
   ],
   "source": [
    "#tabNetwoks = generateNetworks(10)\n",
    "network  = tabNetwoks[1]\n",
    "mygraph = setNetwork(network)\n",
    "pos=nx.spring_layout(mygraph)\n",
    "print(tabNetwoks)\n",
    "#tabStates = []\n",
    "# parameter to know the number of iterations (1 in order to make it work properly with 1 iteration )\n",
    "#activity(1000)\n",
    "\n",
    "\n",
    "#### Sorting the tab and creating a dataFrame ####\n",
    "#tabStates = sorted(tabStates, key = lambda i: i['count'],reverse=True)\n",
    "\n",
    "#dfStates = pd.DataFrame(tabStates)\n",
    "\n",
    "#print(dfStates)"
   ]
  },
  {
   "cell_type": "markdown",
   "metadata": {},
   "source": [
    "### Example of exploitation of data"
   ]
  },
  {
   "cell_type": "code",
   "execution_count": 45,
   "metadata": {},
   "outputs": [
    {
     "ename": "NameError",
     "evalue": "name 'dfStates' is not defined",
     "output_type": "error",
     "traceback": [
      "\u001b[1;31m---------------------------------------------------------------------------\u001b[0m",
      "\u001b[1;31mNameError\u001b[0m                                 Traceback (most recent call last)",
      "\u001b[1;32m<ipython-input-45-e03e819a5349>\u001b[0m in \u001b[0;36m<module>\u001b[1;34m\u001b[0m\n\u001b[0;32m      1\u001b[0m \u001b[1;31m#### Creating a subset to compare the number of steps #####\u001b[0m\u001b[1;33m\u001b[0m\u001b[1;33m\u001b[0m\u001b[1;33m\u001b[0m\u001b[0m\n\u001b[1;32m----> 2\u001b[1;33m \u001b[0msubdfStates\u001b[0m \u001b[1;33m=\u001b[0m \u001b[0mdfStates\u001b[0m\u001b[1;33m[\u001b[0m\u001b[1;33m[\u001b[0m\u001b[1;34m'count'\u001b[0m\u001b[1;33m,\u001b[0m\u001b[1;34m'stepCount'\u001b[0m\u001b[1;33m]\u001b[0m\u001b[1;33m]\u001b[0m\u001b[1;33m\u001b[0m\u001b[1;33m\u001b[0m\u001b[0m\n\u001b[0m\u001b[0;32m      3\u001b[0m \u001b[0msubdfStates\u001b[0m \u001b[1;33m=\u001b[0m \u001b[0msubdfStates\u001b[0m\u001b[1;33m.\u001b[0m\u001b[0mgroupby\u001b[0m\u001b[1;33m(\u001b[0m\u001b[1;33m[\u001b[0m\u001b[1;34m'stepCount'\u001b[0m\u001b[1;33m]\u001b[0m\u001b[1;33m)\u001b[0m\u001b[1;33m.\u001b[0m\u001b[0msum\u001b[0m\u001b[1;33m(\u001b[0m\u001b[1;33m)\u001b[0m\u001b[1;33m\u001b[0m\u001b[1;33m\u001b[0m\u001b[0m\n\u001b[0;32m      4\u001b[0m \u001b[0msubdfStates\u001b[0m\u001b[1;33m.\u001b[0m\u001b[0mplot\u001b[0m\u001b[1;33m(\u001b[0m\u001b[0mkind\u001b[0m\u001b[1;33m=\u001b[0m\u001b[1;34m'bar'\u001b[0m\u001b[1;33m)\u001b[0m\u001b[1;33m\u001b[0m\u001b[1;33m\u001b[0m\u001b[0m\n",
      "\u001b[1;31mNameError\u001b[0m: name 'dfStates' is not defined"
     ]
    }
   ],
   "source": [
    "#### Creating a subset to compare the number of steps #####\n",
    "subdfStates = dfStates[['count','stepCount']] \n",
    "subdfStates = subdfStates.groupby(['stepCount']).sum()\n",
    "subdfStates.plot(kind='bar')"
   ]
  },
  {
   "cell_type": "code",
   "execution_count": 46,
   "metadata": {},
   "outputs": [
    {
     "ename": "NameError",
     "evalue": "name 'subdfStates' is not defined",
     "output_type": "error",
     "traceback": [
      "\u001b[1;31m---------------------------------------------------------------------------\u001b[0m",
      "\u001b[1;31mNameError\u001b[0m                                 Traceback (most recent call last)",
      "\u001b[1;32m<ipython-input-46-a690d47bf363>\u001b[0m in \u001b[0;36m<module>\u001b[1;34m\u001b[0m\n\u001b[0;32m      1\u001b[0m \u001b[1;31m### Creating a subset to compare the probability of arrival depending of the time\u001b[0m\u001b[1;33m\u001b[0m\u001b[1;33m\u001b[0m\u001b[1;33m\u001b[0m\u001b[0m\n\u001b[1;32m----> 2\u001b[1;33m \u001b[0mgraph\u001b[0m \u001b[1;33m=\u001b[0m \u001b[0msubdfStates\u001b[0m\u001b[1;33m.\u001b[0m\u001b[0mcumsum\u001b[0m\u001b[1;33m(\u001b[0m\u001b[0maxis\u001b[0m\u001b[1;33m=\u001b[0m\u001b[1;36m0\u001b[0m\u001b[1;33m)\u001b[0m\u001b[1;33m\u001b[0m\u001b[1;33m\u001b[0m\u001b[0m\n\u001b[0m\u001b[0;32m      3\u001b[0m \u001b[0mgraph\u001b[0m \u001b[1;33m=\u001b[0m \u001b[0mgraph\u001b[0m\u001b[1;33m/\u001b[0m\u001b[1;36m500\u001b[0m\u001b[1;33m\u001b[0m\u001b[1;33m\u001b[0m\u001b[0m\n\u001b[0;32m      4\u001b[0m \u001b[0mprint\u001b[0m\u001b[1;33m(\u001b[0m\u001b[0mgraph\u001b[0m\u001b[1;33m)\u001b[0m\u001b[1;33m\u001b[0m\u001b[1;33m\u001b[0m\u001b[0m\n\u001b[0;32m      5\u001b[0m \u001b[0mgraph\u001b[0m\u001b[1;33m.\u001b[0m\u001b[0mplot\u001b[0m\u001b[1;33m(\u001b[0m\u001b[1;33m)\u001b[0m\u001b[1;33m\u001b[0m\u001b[1;33m\u001b[0m\u001b[0m\n",
      "\u001b[1;31mNameError\u001b[0m: name 'subdfStates' is not defined"
     ]
    }
   ],
   "source": [
    "### Creating a subset to compare the probability of arrival depending of the time\n",
    "graph = subdfStates.cumsum(axis=0)\n",
    "graph = graph/500\n",
    "print(graph)\n",
    "graph.plot()"
   ]
  },
  {
   "cell_type": "markdown",
   "metadata": {},
   "source": [
    "# TO DO : \n",
    "\n",
    "- **Implement a Function to change the probability of throughput**\n",
    "- **Implement a Function to choose a path naively**\n",
    "- **Implement the Function to optimize the path choosing**\n",
    "- **Implement control Function**\n",
    "- **generate 100 scenario**\n",
    "- **Test first routing rule 100 times**"
   ]
  },
  {
   "cell_type": "code",
   "execution_count": 94,
   "metadata": {},
   "outputs": [
    {
     "name": "stdout",
     "output_type": "stream",
     "text": [
      "## CurrentState:1\n",
      "## Going through neigbors:['1', '2', '3', '5']\n",
      "## Current Path:['1']\n"
     ]
    },
    {
     "ename": "TypeError",
     "evalue": "unsupported operand type(s) for +: 'int' and 'str'",
     "output_type": "error",
     "traceback": [
      "\u001b[1;31m---------------------------------------------------------------------------\u001b[0m",
      "\u001b[1;31mTypeError\u001b[0m                                 Traceback (most recent call last)",
      "\u001b[1;32m<ipython-input-94-2595ca80c8c5>\u001b[0m in \u001b[0;36m<module>\u001b[1;34m\u001b[0m\n\u001b[0;32m     53\u001b[0m \u001b[1;33m\u001b[0m\u001b[0m\n\u001b[0;32m     54\u001b[0m \u001b[1;33m\u001b[0m\u001b[0m\n\u001b[1;32m---> 55\u001b[1;33m \u001b[0mfindBestPath\u001b[0m\u001b[1;33m(\u001b[0m\u001b[0mmygraph\u001b[0m\u001b[1;33m)\u001b[0m\u001b[1;33m\u001b[0m\u001b[1;33m\u001b[0m\u001b[0m\n\u001b[0m",
      "\u001b[1;32m<ipython-input-94-2595ca80c8c5>\u001b[0m in \u001b[0;36mfindBestPath\u001b[1;34m(network)\u001b[0m\n\u001b[0;32m     19\u001b[0m                 pathsTab.append({\n\u001b[0;32m     20\u001b[0m                     \u001b[1;34m\"path\"\u001b[0m \u001b[1;33m:\u001b[0m \u001b[0mpath2add\u001b[0m\u001b[1;33m,\u001b[0m\u001b[1;33m\u001b[0m\u001b[1;33m\u001b[0m\u001b[0m\n\u001b[1;32m---> 21\u001b[1;33m                     \"weight\" : currentPathCost+weightNeighor})\n\u001b[0m\u001b[0;32m     22\u001b[0m                 \u001b[0mprint\u001b[0m\u001b[1;33m(\u001b[0m\u001b[1;34m\"## Adding :\"\u001b[0m\u001b[1;33m+\u001b[0m\u001b[0mstr\u001b[0m\u001b[1;33m(\u001b[0m\u001b[0mpath2add\u001b[0m\u001b[1;33m)\u001b[0m\u001b[1;33m)\u001b[0m\u001b[1;33m\u001b[0m\u001b[1;33m\u001b[0m\u001b[0m\n\u001b[0;32m     23\u001b[0m             \u001b[1;32mif\u001b[0m \u001b[0mshortestArc\u001b[0m \u001b[1;33m==\u001b[0m \u001b[1;34m\"\"\u001b[0m\u001b[1;33m:\u001b[0m\u001b[1;33m\u001b[0m\u001b[1;33m\u001b[0m\u001b[0m\n",
      "\u001b[1;31mTypeError\u001b[0m: unsupported operand type(s) for +: 'int' and 'str'"
     ]
    }
   ],
   "source": [
    "\n",
    "def findBestPath(network):\n",
    "    pathsTab = []\n",
    "    visitedNode = [\"1\"]\n",
    "    currentPath = [\"1\"]\n",
    "    currentPathCost = 0\n",
    "    currentState = \"1\"\n",
    "    finalState = \"5\"\n",
    "    while currentState != finalState:\n",
    "        shortestArc = \"\"\n",
    "        weightNeighor = 0\n",
    "        print(\"## CurrentState:\"+currentState)\n",
    "        print(\"## Going through neigbors:\"+str(list(network.neighbors(currentState))))\n",
    "        print(\"## Current Path:\"+str(currentPath))\n",
    "        for e in list(network.neighbors(currentState)):\n",
    "            path2add = list.copy(currentPath)\n",
    "            weightNeighor = network.get_edge_data(currentState,e)[0]['weight']\n",
    "            if e not in visitedNode:\n",
    "                path2add.append(e)\n",
    "                pathsTab.append({\n",
    "                    \"path\" : path2add,\n",
    "                    \"weight\" : currentPathCost+weightNeighor})\n",
    "                print(\"## Adding :\"+str(path2add))\n",
    "            if shortestArc == \"\":\n",
    "                shortestArc = e\n",
    "            else:\n",
    "                if weightNeighor < network.get_edge_data(currentState,shortestArc)[0]['weight']:\n",
    "                    shortestArc = e\n",
    "        print(\"## shortestArc is:\" +  str(shortestArc))\n",
    "        \n",
    "        currentPathCost += network.get_edge_data(currentState,shortestArc)[0]['weight']\n",
    "        print(\"## CurrentPathCost is:\" +  str(currentPathCost))\n",
    "        change = False\n",
    "        for e in pathsTab:\n",
    "            if currentPathCost > e['weight']:\n",
    "                currentPath = e['path']\n",
    "                shortestArc = e['path'][len(e['path'])-1]\n",
    "                change = True\n",
    "                print(\"## I CHANGE MY PLANS :\"+str(currentState))\n",
    "        if change == False:\n",
    "            currentPath.append(shortestArc)\n",
    "        print(\"## I Choose :\"+str(shortestArc))\n",
    "        currentState = shortestArc\n",
    "        visitedNode.append(shortestArc)\n",
    "        print(pathsTab)\n",
    "    pathsTab.append({\n",
    "    \"path\" : currentPath,\n",
    "    \"weight\" : currentPathCost\n",
    "    })\n",
    "    print(visitedNode)\n",
    "    print(pathsTab)\n",
    "    print(currentPathCost)\n",
    "    return currentPath\n",
    "\n",
    "\n",
    "findBestPath(mygraph)"
   ]
  },
  {
   "cell_type": "code",
   "execution_count": null,
   "metadata": {},
   "outputs": [],
   "source": []
  }
 ],
 "metadata": {
  "kernelspec": {
   "display_name": "jupEnv",
   "language": "python",
   "name": "jupenv"
  },
  "language_info": {
   "codemirror_mode": {
    "name": "ipython",
    "version": 3
   },
   "file_extension": ".py",
   "mimetype": "text/x-python",
   "name": "python",
   "nbconvert_exporter": "python",
   "pygments_lexer": "ipython3",
   "version": "3.8.5"
  }
 },
 "nbformat": 4,
 "nbformat_minor": 2
}
